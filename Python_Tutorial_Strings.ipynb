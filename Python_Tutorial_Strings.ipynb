{
  "nbformat": 4,
  "nbformat_minor": 0,
  "metadata": {
    "colab": {
      "provenance": []
    },
    "kernelspec": {
      "name": "python3",
      "display_name": "Python 3"
    },
    "language_info": {
      "name": "python"
    }
  },
  "cells": [
    {
      "cell_type": "markdown",
      "source": [
        "# **Python Tutorial - Strings Manipulation (Fall 2025)**\n",
        "Instructor: Hubert Huang, Department of Business Administration, National Taiwan University"
      ],
      "metadata": {
        "id": "mM-B-vX1bX_W"
      }
    },
    {
      "cell_type": "markdown",
      "source": [
        "Covered chapters:\n",
        "1.   String Basics\n",
        "2.   Indexing & Slicing\n",
        "3.   String Operations\n",
        "4.   Common String Methods\n",
        "5.   Loops & Conditional Statements with Strings"
      ],
      "metadata": {
        "id": "1oJk76GveMkA"
      }
    },
    {
      "cell_type": "markdown",
      "source": [
        "###**Chapter 1: String Basics**\n"
      ],
      "metadata": {
        "id": "efojD_QCfes1"
      }
    },
    {
      "cell_type": "markdown",
      "source": [
        "##### 1-1 String Declaration\n",
        "*   ***variable = 'string'***\n",
        "*   ***variable = \"string\"***\n",
        "*   ***variable = '''string1***"
      ],
      "metadata": {
        "id": "4f7Eeb9Rn1XT"
      }
    },
    {
      "cell_type": "code",
      "source": [
        "a = 'NTU'\n",
        "b = \"DAC\"\n",
        "c = '''NTU\n",
        "7th'''\n",
        "\n",
        "print(a)\n",
        "print(a, b)\n",
        "print(c)"
      ],
      "metadata": {
        "colab": {
          "base_uri": "https://localhost:8080/"
        },
        "id": "GX5djhbFhIoU",
        "outputId": "174b6ebc-3d1e-4bcd-839f-4ae0d569330a"
      },
      "execution_count": null,
      "outputs": [
        {
          "output_type": "stream",
          "name": "stdout",
          "text": [
            "NTU\n",
            "NTU DAC\n",
            "7th\n"
          ]
        }
      ]
    },
    {
      "cell_type": "markdown",
      "source": [
        "##### 1-2 String Immutability\n",
        "Strings cannot be changed directly\n",
        "\n",
        "--> Correct way: create a new string"
      ],
      "metadata": {
        "id": "hnjx5Sj4haVo"
      }
    },
    {
      "cell_type": "code",
      "source": [
        "s = 'NTU 6th'\n",
        "print('Original string:', s)\n",
        "\n",
        "s2 = s[:3] + ' 7th'    # s[:3] = 'NTU'\n",
        "print('New string:', s2)"
      ],
      "metadata": {
        "colab": {
          "base_uri": "https://localhost:8080/"
        },
        "id": "v5SYg1cPhr0B",
        "outputId": "58cbbfa5-411d-4e1b-f459-39d111f86f9c"
      },
      "execution_count": null,
      "outputs": [
        {
          "output_type": "stream",
          "name": "stdout",
          "text": [
            "Original string: NTU 6th\n",
            "New string: NTU 7th\n"
          ]
        }
      ]
    },
    {
      "cell_type": "markdown",
      "source": [
        "###**Chapter 2: Indexing & Slicing**\n"
      ],
      "metadata": {
        "id": "xCz2paerf37f"
      }
    },
    {
      "cell_type": "markdown",
      "source": [
        "##### 2-1 Positive & Negative Indexing\n",
        "*   ***list[index]*** : retrieves the element at the specified position in the list\n",
        "\n"
      ],
      "metadata": {
        "id": "7WvvAcJRn48-"
      }
    },
    {
      "cell_type": "code",
      "source": [
        "s = 'NTUDAC'\n",
        "print(s[1])\n",
        "print(s[-2])"
      ],
      "metadata": {
        "colab": {
          "base_uri": "https://localhost:8080/"
        },
        "id": "JZfOJwGgkR_9",
        "outputId": "46d0ca7d-06bf-4d99-b403-aac2d77b9900"
      },
      "execution_count": null,
      "outputs": [
        {
          "output_type": "stream",
          "name": "stdout",
          "text": [
            "T\n",
            "A\n"
          ]
        }
      ]
    },
    {
      "cell_type": "markdown",
      "source": [
        "##### 2-2 Slicing\n",
        "*   ***list[start:end:step]*** : returns a slice of the list from the start index up to (but not including) the end index, taking elements at the given step interval.\n"
      ],
      "metadata": {
        "id": "SgmM1a3TmUUE"
      }
    },
    {
      "cell_type": "code",
      "source": [
        "s = 'NTUDAC'\n",
        "print(s[2:4])\n",
        "print(s[:5])\n",
        "print(s[5:])\n",
        "print(s[::2])"
      ],
      "metadata": {
        "colab": {
          "base_uri": "https://localhost:8080/"
        },
        "id": "SoYNZ5momYSC",
        "outputId": "866fa43c-6ef0-4f13-97dd-6d1d770711ed"
      },
      "execution_count": 2,
      "outputs": [
        {
          "output_type": "stream",
          "name": "stdout",
          "text": [
            "UD\n",
            "NTUDA\n",
            "C\n",
            "NUA\n"
          ]
        }
      ]
    },
    {
      "cell_type": "markdown",
      "source": [
        "###**Chapter 3: String Operations**"
      ],
      "metadata": {
        "id": "4wzCPuKvgCcc"
      }
    },
    {
      "cell_type": "markdown",
      "source": [
        "##### 3-1 Operations\n",
        "*   ***string + string*** : concatenation\n",
        "*   ***string * times*** : repetition\n",
        "*   ***string_A in string_B*** : membership check\n",
        "*   ***len(string)*** : number of characters\n",
        "\n"
      ],
      "metadata": {
        "id": "q5NydN6Gn9SO"
      }
    },
    {
      "cell_type": "code",
      "source": [
        "a, b = 'NTU', 'DAC'\n",
        "c = a + ' ' + b\n",
        "\n",
        "print(c)   # concatenation\n",
        "print('7' * 10)      # repetition\n",
        "print('NTU' in c)     # membership check\n",
        "print('ntu' in c)     # case-sensitive\n",
        "print(len(c))"
      ],
      "metadata": {
        "colab": {
          "base_uri": "https://localhost:8080/"
        },
        "id": "RmoZ2iWDoQBZ",
        "outputId": "565ea3af-e0d6-471e-bd4e-a61f13a3547a"
      },
      "execution_count": 1,
      "outputs": [
        {
          "output_type": "stream",
          "name": "stdout",
          "text": [
            "NTU DAC\n",
            "7777777777\n",
            "True\n",
            "False\n",
            "7\n"
          ]
        }
      ]
    },
    {
      "cell_type": "markdown",
      "source": [
        "##### 3-2 Unicode\n",
        "*   ***ord(character)*** : convert a character into a Unicode\n",
        "*   ***chr(Unicode)*** : convert a Unicode into a character\n",
        "\n"
      ],
      "metadata": {
        "id": "RMCxLi_SqFiW"
      }
    },
    {
      "cell_type": "code",
      "source": [
        "s = 'NTUDAC'\n",
        "for ch in s:\n",
        "    print(ch, ord(ch))\n",
        "\n",
        "print(chr(65))\n",
        "print(ord('A'))"
      ],
      "metadata": {
        "colab": {
          "base_uri": "https://localhost:8080/"
        },
        "id": "UJGHbfCmqKAG",
        "outputId": "5e4916c3-ee37-4a2b-841a-299645fd46c9"
      },
      "execution_count": 5,
      "outputs": [
        {
          "output_type": "stream",
          "name": "stdout",
          "text": [
            "N 78\n",
            "T 84\n",
            "U 85\n",
            "D 68\n",
            "A 65\n",
            "C 67\n",
            "A\n",
            "65\n"
          ]
        }
      ]
    },
    {
      "cell_type": "markdown",
      "source": [
        "###**Chapter 4: Common String Methods**"
      ],
      "metadata": {
        "id": "Z4iu8zs5gLea"
      }
    },
    {
      "cell_type": "markdown",
      "source": [
        "##### 4-1 Case Conversion\n",
        "*   ***string.upper()*** : converts all characters in the string to uppercase\n",
        "*   ***string.lower()*** : converts all characters in the string to lowercase\n",
        "*   ***string.title()*** : converts the first character of each word to uppercase and the rest to lowercase\n",
        "*   ***string.capitalize()*** : converts only the first character of the string to uppercase and the rest to lowercase\n"
      ],
      "metadata": {
        "id": "BOCKXdNJ8UkT"
      }
    },
    {
      "cell_type": "code",
      "source": [
        "s = 'NTU DAC'\n",
        "print(s.upper())\n",
        "print(s.lower())\n",
        "print(s.title())\n",
        "print(s.capitalize())"
      ],
      "metadata": {
        "colab": {
          "base_uri": "https://localhost:8080/"
        },
        "id": "Wjty-U3V9I7o",
        "outputId": "38f7b3b5-a941-4e9e-bd8a-ec1e6fd20cd7"
      },
      "execution_count": 6,
      "outputs": [
        {
          "output_type": "stream",
          "name": "stdout",
          "text": [
            "NTU DAC\n",
            "ntu dac\n",
            "Ntu Dac\n",
            "Ntu dac\n"
          ]
        }
      ]
    },
    {
      "cell_type": "markdown",
      "source": [
        "##### 4-2 Strip\n",
        "*   ***string.strip(characters)*** : Removes specified characters (or whitespace) from both the beginning and the end of the string.\n",
        "*   ***string.lstrip(characters)*** : Removes specified characters (or whitespace) only from the beginning (left side) of the string.\n",
        "*   ***string.rstrip(characters)*** : Removes specified characters (or whitespace) only from the end (right side) of the string.\n"
      ],
      "metadata": {
        "id": "9uUMp2jr9OI_"
      }
    },
    {
      "cell_type": "code",
      "source": [
        "s = ' NTU DAC '\n",
        "print(s)\n",
        "\n",
        "print(s.strip())\n",
        "print(s.lstrip())\n",
        "print(s.rstrip())\n",
        "\n",
        "print(\"======\")\n",
        "s2 = s.strip()    # s2 = 'NTU DAC'\n",
        "\n",
        "print(s2.strip('N'))\n",
        "print(s2.lstrip('N'))\n",
        "print(s2.rstrip('C'))"
      ],
      "metadata": {
        "colab": {
          "base_uri": "https://localhost:8080/"
        },
        "id": "C4dp0_Hd9vYA",
        "outputId": "e4db3e08-56d2-4ac1-f782-457eff4893b6"
      },
      "execution_count": 17,
      "outputs": [
        {
          "output_type": "stream",
          "name": "stdout",
          "text": [
            " NTU DAC \n",
            "NTU DAC\n",
            "NTU DAC \n",
            " NTU DAC\n",
            "======\n",
            "TU DAC\n",
            "TU DAC\n",
            "NTU DA\n"
          ]
        }
      ]
    },
    {
      "cell_type": "markdown",
      "source": [
        "##### 4-3 Search, Count, Replace\n",
        "*   ***string_A.find(string_B)*** : returns the index of the first occurrence of the substring B in string A\n",
        "*   ***string_A.count(string_B)*** : counts how many times the substring B appears in string A\n",
        "*   ***string_A.replace(string_B, string_C)*** : replaces all occurrences of string B with string C in string A and returns a new string\n"
      ],
      "metadata": {
        "id": "MiqLfZq2_UEB"
      }
    },
    {
      "cell_type": "code",
      "source": [
        "s = 'NTU DAC 7th and NTU DAC 6th'\n",
        "print(s.find('th'))\n",
        "print(s.count('DAC'))\n",
        "print(s.replace('NTU', 'NCCU'))"
      ],
      "metadata": {
        "colab": {
          "base_uri": "https://localhost:8080/"
        },
        "id": "sRzvbvN5AS24",
        "outputId": "d954641c-62d9-46a1-9e9c-d9a572be5df5"
      },
      "execution_count": 19,
      "outputs": [
        {
          "output_type": "stream",
          "name": "stdout",
          "text": [
            "9\n",
            "2\n",
            "NCCU DAC 7th and NCCU DAC 6th\n"
          ]
        }
      ]
    },
    {
      "cell_type": "markdown",
      "source": [
        "##### 4-4 Split & Join\n",
        "*   ***string.split(delimiter)*** : splits a string into a list of substrings based on a specified delimiter\n",
        "*   ***separator.join(iterable_elements)*** : concatenates the elements of an iterable into a single string, using the given string as a separator\n",
        "\n"
      ],
      "metadata": {
        "id": "MRrORpSXAnvZ"
      }
    },
    {
      "cell_type": "code",
      "source": [
        "s = 'NTU,DAC,7th,6th'\n",
        "s2 = s.split(',')\n",
        "print(s2)\n",
        "print('-'.join(s2))"
      ],
      "metadata": {
        "colab": {
          "base_uri": "https://localhost:8080/"
        },
        "id": "uD-TlXumCfWQ",
        "outputId": "034a1b9f-639a-479f-cf4e-6e6bfb8a16bc"
      },
      "execution_count": 20,
      "outputs": [
        {
          "output_type": "stream",
          "name": "stdout",
          "text": [
            "['NTU', 'DAC', '7th', '6th']\n",
            "NTU-DAC-7th-6th\n"
          ]
        }
      ]
    },
    {
      "cell_type": "markdown",
      "source": [
        "###**Chapter 5: Loops & Conditional Statements with Strings**"
      ],
      "metadata": {
        "id": "0aqDl36UgLcH"
      }
    },
    {
      "cell_type": "markdown",
      "source": [
        "##### 5-1 Basic Checks\n",
        "*   ***string.isdigit()*** : returns True if all characters in the string are digits\n",
        "*   ***str.isalpha()*** : returns True if all characters in the string are alphabetic letters\n",
        "*   ***str.isspace()*** : returns True if all characters in the string are whitespace characters"
      ],
      "metadata": {
        "id": "fcwKqMdqDRVO"
      }
    },
    {
      "cell_type": "code",
      "source": [
        "s = 'NTU DAC 7th'    # 1 digits, 8 letters, 2 spaces\n",
        "digits = letters = spaces = 0\n",
        "for ch in s:\n",
        "    if ch.isdigit():\n",
        "        digits += 1\n",
        "    elif ch.isalpha():\n",
        "        letters += 1\n",
        "    elif ch.isspace():\n",
        "        spaces += 1\n",
        "print(digits, letters, spaces)"
      ],
      "metadata": {
        "colab": {
          "base_uri": "https://localhost:8080/"
        },
        "id": "RW0RXGY3DdNE",
        "outputId": "a6cc1be8-ca98-41dd-a462-9b53f6fa5bc2"
      },
      "execution_count": 22,
      "outputs": [
        {
          "output_type": "stream",
          "name": "stdout",
          "text": [
            "1 8 2\n"
          ]
        }
      ]
    },
    {
      "cell_type": "markdown",
      "source": [
        "##### 5-2 Upper, Lower, Others\n",
        "*   ***string.isupper()*** : returns True if all alphabetic characters in the string are uppercase.\n",
        "*   ***string.islower()*** : returns True if all alphabetic characters in the string are lowercase\n"
      ],
      "metadata": {
        "id": "MKRjmjY9EUzK"
      }
    },
    {
      "cell_type": "code",
      "source": [
        "t = 'National Taiwan University 2025'    # 3 uppercase letters, 21 lowercase letters, 4 digits\n",
        "upp = low = other = 0\n",
        "for ch in t:\n",
        "    if ch.isupper():\n",
        "        upp += 1\n",
        "    elif ch.islower():\n",
        "        low += 1\n",
        "    elif not ch.isspace():\n",
        "        other += 1\n",
        "print(upp, low, other)"
      ],
      "metadata": {
        "colab": {
          "base_uri": "https://localhost:8080/"
        },
        "id": "1zSH0OaNEwXf",
        "outputId": "e8bab3c7-646c-47a3-bc4b-4e5cc7d4ce03"
      },
      "execution_count": 25,
      "outputs": [
        {
          "output_type": "stream",
          "name": "stdout",
          "text": [
            "3 21 4\n"
          ]
        }
      ]
    },
    {
      "cell_type": "markdown",
      "source": [
        "##### 5-3 Simple Word Frequency\n",
        "*   ***dictionary.get(key, default)*** : returns the value associated with the specified key in a dictionary, or the given default value if the key is not found\n",
        "\n"
      ],
      "metadata": {
        "id": "JILvXp1_Fj-P"
      }
    },
    {
      "cell_type": "code",
      "source": [
        "text = 'NTU DAC 7th and NTU DAC 6th'    # 2 NTU, 2 DAC, 1 7th, 1 and, 1 6th\n",
        "freq = {}\n",
        "for word in text.lower().split():\n",
        "    freq[word] = freq.get(word, 0) + 1\n",
        "print(freq)"
      ],
      "metadata": {
        "colab": {
          "base_uri": "https://localhost:8080/"
        },
        "id": "ueb-52hxGTg4",
        "outputId": "d827e865-ba41-4e08-9bad-80d67967bbfc"
      },
      "execution_count": 28,
      "outputs": [
        {
          "output_type": "stream",
          "name": "stdout",
          "text": [
            "{'ntu': 2, 'dac': 2, '7th': 1, 'and': 1, '6th': 1}\n"
          ]
        }
      ]
    },
    {
      "cell_type": "markdown",
      "source": [
        "###**Congratulations!**\n",
        "\n",
        "You have already learned the basic string manipulation techniques in Python.\n",
        "\n",
        "If you find any mistakes in the above content or have further questions, please feel free to contact me anytime."
      ],
      "metadata": {
        "id": "2R_AzlS8GzlN"
      }
    }
  ]
}